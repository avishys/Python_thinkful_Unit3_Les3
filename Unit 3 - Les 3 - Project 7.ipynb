{
 "cells": [
  {
   "cell_type": "code",
   "execution_count": 19,
   "metadata": {
    "collapsed": true
   },
   "outputs": [],
   "source": [
    "import pandas as pd\n",
    "import matplotlib.pyplot as plt\n",
    "import numpy as np\n",
    "import statistics as st\n",
    "from scipy.stats import ttest_ind\n",
    "%matplotlib inline"
   ]
  },
  {
   "cell_type": "code",
   "execution_count": 15,
   "metadata": {},
   "outputs": [
    {
     "data": {
      "image/png": "[encoded data removed]",
      "text/plain": [
       "<matplotlib.figure.Figure at 0x1699c240cc0>"
      ]
     },
     "metadata": {},
     "output_type": "display_data"
    },
    {
     "name": "stdout",
     "output_type": "stream",
     "text": [
      "sample 1 mean = 1.89\n",
      "sample 2 mean = 5.07\n",
      "sample 1 std = 1.3106868428423322\n",
      "sample 2 std = 1.3435400998853737\n"
     ]
    }
   ],
   "source": [
    "#preparation of data\n",
    "pop1 = np.random.binomial(10, 0.2, 10000)\n",
    "pop2 = np.random.binomial(10,0.5, 10000) \n",
    "\n",
    "sample1 = np.random.choice(pop1, 100, replace=True)\n",
    "sample2 = np.random.choice(pop2, 100, replace=True)\n",
    "\n",
    "plt.hist(sample1, alpha=0.5, label='sample 1') \n",
    "plt.hist(sample2, alpha=0.5, label='sample 2') \n",
    "plt.legend(loc='upper right') \n",
    "plt.show()\n",
    "\n",
    "#original data descriptive statistics\n",
    "samp1_mean=sample1.mean()\n",
    "samp2_mean=sample2.mean()\n",
    "samp1_std=sample1.std()\n",
    "samp2_std=sample2.std()\n",
    "\n",
    "print('sample 1 mean = ' + format(samp1_mean))\n",
    "print('sample 2 mean = ' + format(samp2_mean))\n",
    "print('sample 1 std = ' + format(samp1_std))\n",
    "print('sample 2 std = ' + format(samp2_std))"
   ]
  },
  {
   "cell_type": "code",
   "execution_count": 6,
   "metadata": {},
   "outputs": [
    {
     "name": "stdout",
     "output_type": "stream",
     "text": [
      "2.06 4.97 1.14734476074 1.53918809767\n"
     ]
    }
   ],
   "source": [
    "\n"
   ]
  },
  {
   "cell_type": "code",
   "execution_count": 16,
   "metadata": {},
   "outputs": [
    {
     "data": {
      "image/png": "[encoded data removed]",
      "text/plain": [
       "<matplotlib.figure.Figure at 0x1699c3b3278>"
      ]
     },
     "metadata": {},
     "output_type": "display_data"
    },
    {
     "name": "stdout",
     "output_type": "stream",
     "text": [
      "sample 1 mean = 1.911\n",
      "sample 2 mean = 4.962\n",
      "sample 1 std = 1.2981059278810803\n",
      "sample 2 std = 1.599548686348746\n"
     ]
    }
   ],
   "source": [
    "#Q1\n",
    "#Expect: I believe increasing the numbers will change the mean/std and the distibution\n",
    "sample1 = np.random.choice(pop1, 1000, replace=True)\n",
    "sample2 = np.random.choice(pop2, 1000, replace=True)\n",
    "\n",
    "plt.hist(sample1, alpha=0.5, label='sample 1') \n",
    "plt.hist(sample2, alpha=0.5, label='sample 2') \n",
    "plt.legend(loc='upper right') \n",
    "plt.show()\n",
    "\n",
    "samp1_mean=sample1.mean()\n",
    "samp2_mean=sample2.mean()\n",
    "samp1_std=sample1.std()\n",
    "samp2_std=sample2.std()\n",
    "\n",
    "print('sample 1 mean = ' + format(samp1_mean))\n",
    "print('sample 2 mean = ' + format(samp2_mean))\n",
    "print('sample 1 std = ' + format(samp1_std))\n",
    "print('sample 2 std = ' + format(samp2_std))\n",
    "#results: increasing the numbers didn't change the mean/std significantly but the distibution did"
   ]
  },
  {
   "cell_type": "code",
   "execution_count": 17,
   "metadata": {},
   "outputs": [
    {
     "data": {
      "image/png": "[encoded data removed]",
      "text/plain": [
       "<matplotlib.figure.Figure at 0x1699c318748>"
      ]
     },
     "metadata": {},
     "output_type": "display_data"
    },
    {
     "name": "stdout",
     "output_type": "stream",
     "text": [
      "sample 1 mean = 2.1\n",
      "sample 2 mean = 5.1\n",
      "sample 1 std = 1.2206555615733703\n",
      "sample 2 std = 1.609347693943108\n"
     ]
    }
   ],
   "source": [
    "#Q1\n",
    "#Expect: I believe decreasing the numbers will change the mean/std and the distibution\n",
    "sample1 = np.random.choice(pop1, 20, replace=True)\n",
    "sample2 = np.random.choice(pop2, 20, replace=True)\n",
    "\n",
    "plt.hist(sample1, alpha=0.5, label='sample 1') \n",
    "plt.hist(sample2, alpha=0.5, label='sample 2') \n",
    "plt.legend(loc='upper right') \n",
    "plt.show()\n",
    "\n",
    "samp1_mean=sample1.mean()\n",
    "samp2_mean=sample2.mean()\n",
    "samp1_std=sample1.std()\n",
    "samp2_std=sample2.std()\n",
    "\n",
    "print('sample 1 mean = ' + format(samp1_mean))\n",
    "print('sample 2 mean = ' + format(samp2_mean))\n",
    "print('sample 1 std = ' + format(samp1_std))\n",
    "print('sample 2 std = ' + format(samp2_std))\n",
    "#results: decreasing the numbers didn't change the mean/std significantly but the distibution changed but variance is lower than increasing"
   ]
  },
  {
   "cell_type": "code",
   "execution_count": 24,
   "metadata": {},
   "outputs": [
    {
     "name": "stdout",
     "output_type": "stream",
     "text": [
      "Ttest_indResult(statistic=8.8728121936091409, pvalue=4.2456826869159952e-16)\n",
      "Ttest_indResult(statistic=5.2445444505581973, pvalue=4.0961538239071551e-07)\n"
     ]
    }
   ],
   "source": [
    "#Q2\n",
    "#Expect: low variance between the results\n",
    "pop1 = np.random.binomial(10, 0.3, 10000)\n",
    "pop2 = np.random.binomial(10,0.5, 10000) \n",
    "\n",
    "sample1 = np.random.choice(pop1, 100, replace=True)\n",
    "sample2 = np.random.choice(pop2, 100, replace=True)\n",
    "\n",
    "print(ttest_ind(sample2, sample1, equal_var=False))\n",
    "\n",
    "pop1 = np.random.binomial(10, 0.4, 10000)\n",
    "pop2 = np.random.binomial(10,0.5, 10000) \n",
    "\n",
    "sample1 = np.random.choice(pop1, 100, replace=True)\n",
    "sample2 = np.random.choice(pop2, 100, replace=True)\n",
    "\n",
    "print(ttest_ind(sample2, sample1, equal_var=False))\n",
    "#Results: totaly different values, as the population is getting closer to pop2 the values are lower"
   ]
  },
  {
   "cell_type": "code",
   "execution_count": 28,
   "metadata": {},
   "outputs": [
    {
     "data": {
      "image/png": "[encoded data removed]",
      "text/plain": [
       "<matplotlib.figure.Figure at 0x1699cb48be0>"
      ]
     },
     "metadata": {},
     "output_type": "display_data"
    },
    {
     "name": "stdout",
     "output_type": "stream",
     "text": [
      "population 1 mean = 0.6637416483826559\n",
      "population 2 mean = 0.8347491187634161\n",
      "population 1 std = 0.23566950845136866\n",
      "population 2 std = 0.13927332286552302\n"
     ]
    },
    {
     "data": {
      "image/png": "[encoded data removed]",
      "text/plain": [
       "<matplotlib.figure.Figure at 0x1699c26e048>"
      ]
     },
     "metadata": {},
     "output_type": "display_data"
    },
    {
     "name": "stdout",
     "output_type": "stream",
     "text": [
      "sample 1 mean = 0.6506605499663191\n",
      "sample 2 mean = 0.8449924387808574\n",
      "sample 1 std = 0.23788166308020076\n",
      "sample 2 std = 0.14357521302991855\n"
     ]
    }
   ],
   "source": [
    "#Q3\n",
    "#Expect:the sample will represent the population \n",
    "pop1 = np.random.power(2, 10000)\n",
    "pop2 = np.random.power(5, 10000) \n",
    "\n",
    "plt.hist(pop1, alpha=0.5, label='sample 1') \n",
    "plt.hist(pop2, alpha=0.5, label='sample 2') \n",
    "plt.legend(loc='upper right') \n",
    "plt.show()\n",
    "\n",
    "print('population 1 mean = ' + format(pop1.mean()))\n",
    "print('population 2 mean = ' + format(pop2.mean()))\n",
    "print('population 1 std = ' + format(pop1.std()))\n",
    "print('population 2 std = ' + format(pop2.std()))\n",
    "\n",
    "\n",
    "sample1 = np.random.choice(pop1, 100, replace=True)\n",
    "sample2 = np.random.choice(pop2, 100, replace=True)\n",
    "\n",
    "plt.hist(sample1, alpha=0.5, label='sample 1') \n",
    "plt.hist(sample2, alpha=0.5, label='sample 2') \n",
    "plt.legend(loc='upper right') \n",
    "plt.show()\n",
    "\n",
    "#original data descriptive statistics\n",
    "samp1_mean=sample1.mean()\n",
    "samp2_mean=sample2.mean()\n",
    "samp1_std=sample1.std()\n",
    "samp2_std=sample2.std()\n",
    "\n",
    "print('sample 1 mean = ' + format(samp1_mean))\n",
    "print('sample 2 mean = ' + format(samp2_mean))\n",
    "print('sample 1 std = ' + format(samp1_std))\n",
    "print('sample 2 std = ' + format(samp2_std))\n",
    "#Results: though the distribution seems different the mean values are still close"
   ]
  },
  {
   "cell_type": "code",
   "execution_count": null,
   "metadata": {
    "collapsed": true
   },
   "outputs": [],
   "source": []
  }
 ],
 "metadata": {
  "celltoolbar": "Raw Cell Format",
  "kernelspec": {
   "display_name": "Python 3",
   "language": "python",
   "name": "python3"
  },
  "language_info": {
   "codemirror_mode": {
    "name": "ipython",
    "version": 3
   },
   "file_extension": ".py",
   "mimetype": "text/x-python",
   "name": "python",
   "nbconvert_exporter": "python",
   "pygments_lexer": "ipython3",
   "version": "3.6.1"
  }
 },
 "nbformat": 4,
 "nbformat_minor": 2
}
